{
 "cells": [
  {
   "attachments": {},
   "cell_type": "markdown",
   "metadata": {},
   "source": [
    "# Dictionary & Tuple"
   ]
  },
  {
   "attachments": {},
   "cell_type": "markdown",
   "metadata": {},
   "source": [
    "## Dictionary"
   ]
  },
  {
   "attachments": {},
   "cell_type": "markdown",
   "metadata": {},
   "source": [
    "리스트와 비슷한 딕셔너리는 각각의 원소에 대해서 index값으로 접근하는 리스트와는 다르게,\n",
    "\n",
    "(key, value) 쌍의 구성되어, key값으로 value에 접근한다."
   ]
  },
  {
   "cell_type": "code",
   "execution_count": 9,
   "metadata": {},
   "outputs": [
    {
     "name": "stdout",
     "output_type": "stream",
     "text": [
      "12\n"
     ]
    }
   ],
   "source": [
    "studyMemberDict = {'A':12,\n",
    "                   'B':10,\n",
    "                   'C':25,\n",
    "                   }\n",
    "print(studyMemberDict['A'])"
   ]
  },
  {
   "attachments": {},
   "cell_type": "markdown",
   "metadata": {},
   "source": [
    "### 딕셔너리를 이용한 작업"
   ]
  },
  {
   "attachments": {},
   "cell_type": "markdown",
   "metadata": {},
   "source": [
    "우리가 앞서 배웠던 리스트처럼, 딕셔너리 또한 추가 수정 삭제 작업 그리고 그 외의 여러 작업들이 가능하다."
   ]
  },
  {
   "cell_type": "code",
   "execution_count": 10,
   "metadata": {},
   "outputs": [
    {
     "name": "stdout",
     "output_type": "stream",
     "text": [
      "{'A': 12, 'B': 10, 'C': 25, 'D': 25}\n"
     ]
    }
   ],
   "source": [
    "# 추가\n",
    "studyMemberDict['D'] = 25\n",
    "print(studyMemberDict)"
   ]
  },
  {
   "cell_type": "code",
   "execution_count": 11,
   "metadata": {},
   "outputs": [
    {
     "name": "stdout",
     "output_type": "stream",
     "text": [
      "{'A': 9, 'B': 10, 'C': 25, 'D': 25}\n"
     ]
    }
   ],
   "source": [
    "# 수정\n",
    "studyMemberDict['A'] = 9\n",
    "print(studyMemberDict)"
   ]
  },
  {
   "cell_type": "code",
   "execution_count": 12,
   "metadata": {},
   "outputs": [
    {
     "name": "stdout",
     "output_type": "stream",
     "text": [
      "{'B': 10, 'C': 25, 'D': 25}\n",
      "{'C': 25, 'D': 25}\n"
     ]
    }
   ],
   "source": [
    "# 삭제\n",
    "del studyMemberDict['A']\n",
    "print(studyMemberDict)\n",
    "studyMemberDict.pop('B')\n",
    "print(studyMemberDict)"
   ]
  },
  {
   "attachments": {},
   "cell_type": "markdown",
   "metadata": {},
   "source": [
    "### 딕셔너리 내의 반복문"
   ]
  },
  {
   "attachments": {},
   "cell_type": "markdown",
   "metadata": {},
   "source": [
    "딕셔너리 또한 리스트처럼 반복이 가능한 자료구조이다.\n",
    "\n",
    "이때, 리스트와 다르게 key와 value라는 두가지의 값이 존재하기 때문에,\n",
    "\n",
    "여러 방식으로 반복문을 활용 할 수 있다."
   ]
  },
  {
   "attachments": {},
   "cell_type": "markdown",
   "metadata": {},
   "source": [
    "#### key에 대한 반복문"
   ]
  },
  {
   "cell_type": "code",
   "execution_count": 16,
   "metadata": {},
   "outputs": [
    {
     "name": "stdout",
     "output_type": "stream",
     "text": [
      "for key in studyMemberInfo\n",
      "\t 경영학부\n",
      "\t 경제학과\n",
      "\t 전자정보공학부\n",
      "\t 철학과\n",
      "\t 컴퓨터학부\n",
      "for key in studyMemberInfo.keys()\n",
      "\t 경영학부\n",
      "\t 경제학과\n",
      "\t 전자정보공학부\n",
      "\t 철학과\n",
      "\t 컴퓨터학부\n"
     ]
    }
   ],
   "source": [
    "studyMemberInfo = {'경영학부':2,\n",
    "                   '경제학과':1,\n",
    "                   '전자정보공학부':1,\n",
    "                   '철학과':1,\n",
    "                   '컴퓨터학부':1}\n",
    "print('for key in studyMemberInfo')\n",
    "for key in studyMemberInfo:\n",
    "    print('\\t',key)\n",
    "print('for key in studyMemberInfo.keys()')\n",
    "for key in studyMemberInfo.keys():\n",
    "    print('\\t',key)"
   ]
  },
  {
   "attachments": {},
   "cell_type": "markdown",
   "metadata": {},
   "source": [
    "#### value에 대한 반복문"
   ]
  },
  {
   "cell_type": "code",
   "execution_count": 17,
   "metadata": {},
   "outputs": [
    {
     "name": "stdout",
     "output_type": "stream",
     "text": [
      "for key in studyMemberInfo.values()\n",
      "\t 2\n",
      "\t 1\n",
      "\t 1\n",
      "\t 1\n",
      "\t 1\n"
     ]
    }
   ],
   "source": [
    "studyMemberInfo = {'경영학부':2,\n",
    "                   '경제학과':1,\n",
    "                   '전자정보공학부':1,\n",
    "                   '철학과':1,\n",
    "                   '컴퓨터학부':1}\n",
    "print('for key in studyMemberInfo.values()')\n",
    "for value in studyMemberInfo.values():\n",
    "    print('\\t',value)"
   ]
  },
  {
   "attachments": {},
   "cell_type": "markdown",
   "metadata": {},
   "source": [
    "#### item에 대한 반복문"
   ]
  },
  {
   "cell_type": "code",
   "execution_count": 18,
   "metadata": {},
   "outputs": [
    {
     "name": "stdout",
     "output_type": "stream",
     "text": [
      "for key in studyMemberInfo.items()\n",
      "\t 경영학부 2\n",
      "\t 경제학과 1\n",
      "\t 전자정보공학부 1\n",
      "\t 철학과 1\n",
      "\t 컴퓨터학부 1\n"
     ]
    }
   ],
   "source": [
    "studyMemberInfo = {'경영학부':2,\n",
    "                   '경제학과':1,\n",
    "                   '전자정보공학부':1,\n",
    "                   '철학과':1,\n",
    "                   '컴퓨터학부':1}\n",
    "print('for key in studyMemberInfo.items()')\n",
    "for key, value in studyMemberInfo.items():\n",
    "    print('\\t',key,value)"
   ]
  },
  {
   "attachments": {},
   "cell_type": "markdown",
   "metadata": {},
   "source": [
    "### 그 외의 딕셔너리를 위한 메소드"
   ]
  },
  {
   "attachments": {},
   "cell_type": "markdown",
   "metadata": {},
   "source": [
    "그 외의 딕셔너리를 위한 메소드는 파이썬 공식 사이트에서 확인 할 수 있다.\n",
    "[docs.python](https://docs.python.org/3/library/stdtypes.html#mapping-types-dict)"
   ]
  },
  {
   "attachments": {},
   "cell_type": "markdown",
   "metadata": {},
   "source": [
    "## Tuple"
   ]
  },
  {
   "attachments": {},
   "cell_type": "markdown",
   "metadata": {},
   "source": [
    "tuple은 list와 비슷한 sequence type이다.\n",
    "\n",
    "> **sequence type**\n",
    ">\n",
    "> sequence type은 말 그대로 연속적으로 구성된 타입이라는 뜻이다.\n",
    ">\n",
    "> list, tuple, str과 같은 데이터 타입들이 이 타입에 해당된다.\n",
    "\n",
    "그러므로, list에서 사용하였던 대부분의 메소드들이 tuple에서도 사용 가능하다.\n",
    "\n",
    "하지만 tuple은 list와 구분되는 중요한 특성이 있다.\n",
    "\n",
    "그 특성은 한번 tuple을 생성한 이후에는 해당 tuple을 수정할 수 없다는 것이다.\n",
    "\n",
    "이러한 특성을 **imuutable** 하다고 한다."
   ]
  },
  {
   "cell_type": "code",
   "execution_count": 24,
   "metadata": {},
   "outputs": [
    {
     "name": "stdout",
     "output_type": "stream",
     "text": [
      "tup1 (1, 2, 3, 4)\n",
      "tup1[1] 2\n",
      "\n",
      "for i in tup1:\n",
      "\t 1\n",
      "\t 2\n",
      "\t 3\n",
      "\t 4\n"
     ]
    }
   ],
   "source": [
    "# tuple에 대한 접근\n",
    "tup1 = (1,2,3,4)\n",
    "print('tup1',tup1)\n",
    "print('tup1[1]',tup1[1])\n",
    "print()\n",
    "print('for i in tup1:')\n",
    "for i in tup1:\n",
    "    print('\\t',i)"
   ]
  },
  {
   "attachments": {},
   "cell_type": "markdown",
   "metadata": {},
   "source": [
    "#### immutable 한 특성으로 인해 발생하는 error들"
   ]
  },
  {
   "attachments": {},
   "cell_type": "markdown",
   "metadata": {},
   "source": [
    "아래의 코드를 보면 알 수 있듯이, tuple은 원소들의 삭제나 수정이 불가능하다."
   ]
  },
  {
   "cell_type": "code",
   "execution_count": 25,
   "metadata": {},
   "outputs": [
    {
     "ename": "TypeError",
     "evalue": "'tuple' object doesn't support item deletion",
     "output_type": "error",
     "traceback": [
      "\u001b[0;31m---------------------------------------------------------------------------\u001b[0m",
      "\u001b[0;31mTypeError\u001b[0m                                 Traceback (most recent call last)",
      "\u001b[1;32m/Users/minjae/dev/asace_python_basic/weekly/5w.ipynb 셀 23\u001b[0m in \u001b[0;36m<cell line: 3>\u001b[0;34m()\u001b[0m\n\u001b[1;32m      <a href='vscode-notebook-cell:/Users/minjae/dev/asace_python_basic/weekly/5w.ipynb#X34sZmlsZQ%3D%3D?line=0'>1</a>\u001b[0m tup1 \u001b[39m=\u001b[39m (\u001b[39m1\u001b[39m,\u001b[39m2\u001b[39m,\u001b[39m3\u001b[39m,\u001b[39m4\u001b[39m)\n\u001b[0;32m----> <a href='vscode-notebook-cell:/Users/minjae/dev/asace_python_basic/weekly/5w.ipynb#X34sZmlsZQ%3D%3D?line=2'>3</a>\u001b[0m \u001b[39mdel\u001b[39;00m tup1[\u001b[39m2\u001b[39m]\n",
      "\u001b[0;31mTypeError\u001b[0m: 'tuple' object doesn't support item deletion"
     ]
    }
   ],
   "source": [
    "tup1 = (1,2,3,4)\n",
    "\n",
    "del tup1[2]"
   ]
  },
  {
   "cell_type": "code",
   "execution_count": 26,
   "metadata": {},
   "outputs": [
    {
     "ename": "TypeError",
     "evalue": "'tuple' object does not support item assignment",
     "output_type": "error",
     "traceback": [
      "\u001b[0;31m---------------------------------------------------------------------------\u001b[0m",
      "\u001b[0;31mTypeError\u001b[0m                                 Traceback (most recent call last)",
      "\u001b[1;32m/Users/minjae/dev/asace_python_basic/weekly/5w.ipynb 셀 25\u001b[0m in \u001b[0;36m<cell line: 1>\u001b[0;34m()\u001b[0m\n\u001b[0;32m----> <a href='vscode-notebook-cell:/Users/minjae/dev/asace_python_basic/weekly/5w.ipynb#X36sZmlsZQ%3D%3D?line=0'>1</a>\u001b[0m tup1[\u001b[39m1\u001b[39m]\u001b[39m=\u001b[39m\u001b[39m1\u001b[39m\n",
      "\u001b[0;31mTypeError\u001b[0m: 'tuple' object does not support item assignment"
     ]
    }
   ],
   "source": [
    "tup1[1] = 1"
   ]
  },
  {
   "attachments": {},
   "cell_type": "markdown",
   "metadata": {},
   "source": [
    "하지만, 새로운 tuple을 만들어서 tup1이 가지는 값을 통째로 변경할 수는 있다."
   ]
  },
  {
   "cell_type": "code",
   "execution_count": 29,
   "metadata": {},
   "outputs": [
    {
     "name": "stdout",
     "output_type": "stream",
     "text": [
      "before tup1 (1, 2, 3, 4)\n",
      "after tup1 (4, 3, 2, 1)\n"
     ]
    }
   ],
   "source": [
    "tup1 = (1,2,3,4)\n",
    "print('before tup1',tup1)\n",
    "tup1 = (4,3,2,1)\n",
    "print('after tup1', tup1)"
   ]
  },
  {
   "attachments": {},
   "cell_type": "markdown",
   "metadata": {},
   "source": [
    "### tuple을 이용한 packing, unpacking"
   ]
  },
  {
   "attachments": {},
   "cell_type": "markdown",
   "metadata": {},
   "source": [
    "tuple을 활용할 수 있는 방법 중 하나는, packing과 unpacking이다.\n",
    "\n",
    "이를 이용해서, 함수에서 여러 값을 동시에 리턴할 수 있다."
   ]
  },
  {
   "cell_type": "code",
   "execution_count": 30,
   "metadata": {},
   "outputs": [
    {
     "data": {
      "text/plain": [
       "30"
      ]
     },
     "execution_count": 30,
     "metadata": {},
     "output_type": "execute_result"
    }
   ],
   "source": [
    "def mul(a, b):\n",
    "    return a*b\n",
    "nums = (10,3)\n",
    "mul(*nums)"
   ]
  },
  {
   "cell_type": "code",
   "execution_count": 33,
   "metadata": {},
   "outputs": [
    {
     "name": "stdout",
     "output_type": "stream",
     "text": [
      "3 1\n"
     ]
    }
   ],
   "source": [
    "def div(a, b):\n",
    "    return a//b, a%b\n",
    "nums = (10,3)\n",
    "n,m = div(*nums)\n",
    "print(n, m)"
   ]
  }
 ],
 "metadata": {
  "kernelspec": {
   "display_name": "ML",
   "language": "python",
   "name": "python3"
  },
  "language_info": {
   "codemirror_mode": {
    "name": "ipython",
    "version": 3
   },
   "file_extension": ".py",
   "mimetype": "text/x-python",
   "name": "python",
   "nbconvert_exporter": "python",
   "pygments_lexer": "ipython3",
   "version": "3.9.13"
  },
  "orig_nbformat": 4
 },
 "nbformat": 4,
 "nbformat_minor": 2
}
