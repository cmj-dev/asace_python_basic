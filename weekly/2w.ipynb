{
 "cells": [
  {
   "attachments": {},
   "cell_type": "markdown",
   "metadata": {},
   "source": [
    "# 2주차 정리"
   ]
  },
  {
   "attachments": {},
   "cell_type": "markdown",
   "metadata": {},
   "source": [
    "## 조건문"
   ]
  },
  {
   "attachments": {},
   "cell_type": "markdown",
   "metadata": {},
   "source": [
    "if문은 조건에 따라서 동작을 하게 하는 프로그래밍에서 꼭 필요한 문장입니다.\n",
    "\n",
    "이제부터 <u>**들여쓰기**</u>를 주의해서 해야됩니다!!!\n",
    "\n",
    "if 문에 작성된 조건문이 <u>참이냐 거짓이냐</u>에 따라서, **if 문 이후에 들여쓰기된 문장의 실행여부**가 달라집니다.\n",
    "\n",
    "만약, if 문 내부의 조건문이 거짓이게 되면, 그 이후로 들여쓰기된 문장들은 무시되고 바로 같은 깊이에 있는 다음 문장으로 넘어갑니다.\n",
    "\n",
    "아래의 코드를 보시면 이해가 되실 겁니다.\n"
   ]
  },
  {
   "cell_type": "code",
   "execution_count": 5,
   "metadata": {},
   "outputs": [
    {
     "name": "stdout",
     "output_type": "stream",
     "text": [
      "1번 문장 : 조건문 (10 > 5)이 참일때만 실행\n",
      "2번 문장 : 조건문 (10 > 5)이 참이든 거짓이든 실행\n",
      "4번 문장 : 조건문 (10 < 5)이 참이든 거짓이든 실행\n"
     ]
    }
   ],
   "source": [
    "if 10 > 5 :\n",
    "    print('1번 문장 : 조건문 (10 > 5)이 참일때만 실행')\n",
    "print('2번 문장 : 조건문 (10 > 5)이 참이든 거짓이든 실행')\n",
    "if 10 < 5 :\n",
    "    print('3번 문장 : 조건문 (10 < 5)이 참일때만 실행')\n",
    "print('4번 문장 : 조건문 (10 < 5)이 참이든 거짓이든 실행')"
   ]
  },
  {
   "attachments": {},
   "cell_type": "markdown",
   "metadata": {},
   "source": [
    "위의 코드를 보시면, 첫번째 조건문은 참이기 때문에 1번 문장과 2번 문장이 모두 출력되고,\n",
    "\n",
    "두번째 조건문은 거짓이기 때문에 3번 문장은 건너뛰고 4번 문장만 실행되게 됩니다."
   ]
  },
  {
   "attachments": {},
   "cell_type": "markdown",
   "metadata": {},
   "source": [
    "### 조건식"
   ]
  },
  {
   "attachments": {},
   "cell_type": "markdown",
   "metadata": {},
   "source": [
    "그렇다면, if 문에 어떠한 식을 넣을 수 있을까요?\n",
    "\n",
    "* 먼저 if문에는 당연히 조건문을 넣을 수 있습니다.\n",
    "\n",
    "    ```a > b , a < b, a <= b, a >= b, a == b, a != b```\n",
    "    \n",
    "    위와 같은 식들이 조건문이겠죠.\n",
    "    \n",
    "    이때, 우리는 이미 ```=``` 을 좌측에 나오는 것에 우측에 나오는 것을 할당하는 연산자로 사용하였기 때문에,\n",
    "\n",
    "    *\"a 와 b가 같다\"* 라는 조건문을 활용하기 위해서 우리는 ```a == b```를 사용합니다.\n",
    "\n",
    "    그리고 *\"a 와 b가 다르다\"* 즉, 같지 않다는 조건문을 표현하기 위해서 우리는 ```a != b```를 사용합니다.\n",
    "\n",
    "    > #### !의 의미\n",
    "    >이때, 느낌표 *!* 는 반대라는 의미를 뜻합니다. 파이썬에서는 ```not```을 이용해서도 표현 가능하지만, 참을 거짓으로, 거짓을 참으로 바꿔주기 위해서 다른 언어들에서도 자주 활용되기에, 기억해두시면 도움이 될 것입니다.\n",
    "\n",
    "* 우리는 조건문을 넣기 위해서 조건문의 연산자를 이해할 필요가 있습니다.\n",
    "    \n",
    "    위에서 언급한 비교 연산자 외에도 ```and, or, not```의 연산자를 사용하여 연산이 가능합니다.\n",
    "    * **and**\n",
    "        \n",
    "        ```a and b```는 a와 b 모두 참일때, 참이 되는 연산자입니다.\n",
    "    * **or**\n",
    "\n",
    "        ```a or b```는 a와 b 둘 중 하나라도 참일때, 참이 되는 연산자입니다.\n",
    "    * **not**\n",
    "\n",
    "        ```not a```는 위에서도 설명했듯이, a의 참 거짓 여부를 바꿔주는 연산자입니다.\n",
    "\n",
    "* 조건문에는 논리연산 외에도 다른 값이 들어갈 수 있습니다.\n",
    "    \n",
    "    문자열이나 숫자도 들어갈 수 있으며, 해당 값들이 존재하는 경우 (0이나 '' 이 아닌 경우), True로 인식되게 됩니다."
   ]
  },
  {
   "cell_type": "code",
   "execution_count": 14,
   "metadata": {},
   "outputs": [
    {
     "name": "stdout",
     "output_type": "stream",
     "text": [
      "1 is True\n",
      "'asace' is True\n"
     ]
    }
   ],
   "source": [
    "if 0:\n",
    "    print('0 is True')\n",
    "if 1:\n",
    "    print('1 is True')\n",
    "if 'asace':\n",
    "    print(\"'asace' is True\")\n",
    "if '':\n",
    "    print(\"'' is True\")"
   ]
  },
  {
   "attachments": {},
   "cell_type": "markdown",
   "metadata": {},
   "source": [
    "## if else 문"
   ]
  },
  {
   "attachments": {},
   "cell_type": "markdown",
   "metadata": {},
   "source": [
    "### 블럭"
   ]
  },
  {
   "attachments": {},
   "cell_type": "markdown",
   "metadata": {},
   "source": [
    "우리는 지금까지 if문에 대해서만 사용하였습니다.\n",
    "\n",
    "if문이 참이면, 들여쓰기가 된 문장까지 실행되었으며,\n",
    "\n",
    "if문이 거짓이라면, 들여쓰기가 된 문장이 무시되었습니다.\n",
    "\n",
    "이때, 저희가 들여쓰기를 통해서 문장을 구분한 것을 **블럭**라고 합니다.\n"
   ]
  },
  {
   "attachments": {},
   "cell_type": "markdown",
   "metadata": {},
   "source": [
    "다른 언어를 사용해보신 분들은 아실지도 모르겠으나, C언어나 Java와 같은 언어는 블럭을 구분짓기 위해서, 중괄호를 사용하게 됩니다.\n",
    "\n",
    "하지만, 파이썬에서는 간단히 들여쓰기로 블럭을 구분 할 수 있습니다.\n",
    "\n",
    "* 만약에 블럭을 제대로 구분짓지 않는다면, 우리가 의도한 방식대로 실행되지 않거나 에러가 날 것입니다.\n",
    "* 파이썬 코드는 블럭 안에 다른 블럭을 넣을 수 있습니다.\n",
    "\n",
    "\n",
    "\n"
   ]
  },
  {
   "cell_type": "code",
   "execution_count": 16,
   "metadata": {},
   "outputs": [
    {
     "name": "stdout",
     "output_type": "stream",
     "text": [
      "블럭 1\n",
      "블럭 2\n",
      "블럭 3\n",
      "블럭 2\n",
      "블럭 1\n"
     ]
    }
   ],
   "source": [
    "if True:\n",
    "    print('블럭 1')\n",
    "    if True:\n",
    "        print('블럭 2')\n",
    "        if True:\n",
    "            print('블럭 3')\n",
    "        print('블럭 2')\n",
    "    print('블럭 1')"
   ]
  },
  {
   "attachments": {},
   "cell_type": "markdown",
   "metadata": {},
   "source": [
    "### if else문\n",
    "\n",
    "우리는 if문을 사용하게 되면, if문 안의 블럭만 실행 유무를 정할 수 있었습니다.\n",
    "\n",
    "하지만, if else문을 사용하면, if문이 거짓일때만 실행할 문장을 지정 할 수 있으며, 조건을 여러개 지정할 수도 있습니다.\n",
    "\n",
    "이때, 사용하게될 형식은 다음과 같습니다.\n",
    "```python\n",
    "if 'if문 조건식':\n",
    "    print('if 문')\n",
    "elif 'elif문 조건식':\n",
    "    print('elif문')\n",
    "else\n",
    "    print('else 문')\n",
    "```\n",
    "\n",
    "elif는 else if를 줄인 단어라고 생각하시면 됩니다."
   ]
  },
  {
   "cell_type": "code",
   "execution_count": 17,
   "metadata": {},
   "outputs": [
    {
     "name": "stdout",
     "output_type": "stream",
     "text": [
      "rock\n"
     ]
    }
   ],
   "source": [
    "player = 'rock'\n",
    "\n",
    "if player == 'rock':\n",
    "    print('rock')\n",
    "elif player == 'scissors':\n",
    "    print('scissors')\n",
    "else:\n",
    "    print('paper')"
   ]
  },
  {
   "attachments": {},
   "cell_type": "markdown",
   "metadata": {},
   "source": [
    "## 함수 만들기"
   ]
  },
  {
   "attachments": {},
   "cell_type": "markdown",
   "metadata": {},
   "source": [
    "함수는 def를 이용해서 만들 수 있습니다.\n",
    "\n",
    "저희가 예전 수학시간에 배웠던 아래의 그림과 같은 함수 박스를 생각하시면 좋습니다.\n",
    "\n",
    "<img src=\"./img/function.png\" width=\"250px\"/>\n",
    "\n",
    "블랙 박스라고도 말하는 이 박스 내부에 어떠한 변수 x가 들어가면 y가 나오게 되는데요,\n",
    "\n",
    "이 박스를 선언하는 방법을 저희가 배우게 될 것입니다."
   ]
  },
  {
   "attachments": {},
   "cell_type": "markdown",
   "metadata": {},
   "source": [
    "```python\n",
    "def 함수이름(매개변수):\n",
    "    내부 실행될 명령어\n",
    "    return 반환값\n",
    "\n",
    "실행결과 = 함수이름(매개변수)\n",
    "```\n",
    "함수의 선언은 다음과 같이 def 내부의 블럭을 통해서 할 수 있습니다.\n",
    "\n",
    "함수 이름 옆의 매개변수 부분을 통해서 입력값 x를 받으며,\n",
    "\n",
    "입력값을 함수 내부의 블랙박스에서 가공한 이후에\n",
    "\n",
    "return을 통해서 외부로 가공된 값 y를 내보내게 됩니다.\n"
   ]
  },
  {
   "cell_type": "code",
   "execution_count": 20,
   "metadata": {},
   "outputs": [
    {
     "name": "stdout",
     "output_type": "stream",
     "text": [
      "Hello, minjae!\n"
     ]
    }
   ],
   "source": [
    "def helloFunction(name):\n",
    "    helloScentence = 'Hello, ' + name + '!'\n",
    "    return helloScentence\n",
    "\n",
    "result = helloFunction('minjae')\n",
    "print(result)"
   ]
  },
  {
   "attachments": {},
   "cell_type": "markdown",
   "metadata": {},
   "source": [
    "이때, 매개변수나 결과값이 없는 함수도 존재할 수 있습니다."
   ]
  },
  {
   "cell_type": "code",
   "execution_count": 22,
   "metadata": {},
   "outputs": [
    {
     "name": "stdout",
     "output_type": "stream",
     "text": [
      "Hello, MinJae!\n",
      "Hello!\n"
     ]
    }
   ],
   "source": [
    "def printHelloFunction(name):\n",
    "    print('Hello, ' + name + '!')\n",
    "\n",
    "def printOnlyHello():\n",
    "    print('Hello!')\n",
    "\n",
    "printHelloFunction('MinJae')\n",
    "printOnlyHello()"
   ]
  }
 ],
 "metadata": {
  "kernelspec": {
   "display_name": "ML",
   "language": "python",
   "name": "python3"
  },
  "language_info": {
   "codemirror_mode": {
    "name": "ipython",
    "version": 3
   },
   "file_extension": ".py",
   "mimetype": "text/x-python",
   "name": "python",
   "nbconvert_exporter": "python",
   "pygments_lexer": "ipython3",
   "version": "3.9.13"
  },
  "orig_nbformat": 4
 },
 "nbformat": 4,
 "nbformat_minor": 2
}
