{
 "cells": [
  {
   "attachments": {},
   "cell_type": "markdown",
   "metadata": {},
   "source": [
    "## 자료형\n"
   ]
  },
  {
   "attachments": {},
   "cell_type": "markdown",
   "metadata": {},
   "source": [
    "\n",
    "### 문자열\n"
   ]
  },
  {
   "attachments": {},
   "cell_type": "markdown",
   "metadata": {},
   "source": [
    "\n",
    "- `string.format()`** & `f ’{}’ `\n",
    "    \n"
   ]
  },
  {
   "cell_type": "code",
   "execution_count": 2,
   "metadata": {},
   "outputs": [
    {
     "name": "stdout",
     "output_type": "stream",
     "text": [
      "1 번 손님 환영합니다\n",
      "1 번 손님 환영합니다\n"
     ]
    }
   ],
   "source": [
    "number = 1\n",
    "welcome = '환영합니다'\n",
    "print('{} 번 손님 {}'.format(number,welcome))\n",
    "print(f'{number} 번 손님 {welcome}')"
   ]
  },
  {
   "attachments": {},
   "cell_type": "markdown",
   "metadata": {},
   "source": [
    "- `“”” “””`\n",
    "    \n",
    "    줄바꿈이나 따옴표를 쓸 수 있다."
   ]
  },
  {
   "cell_type": "code",
   "execution_count": 9,
   "metadata": {},
   "outputs": [
    {
     "name": "stdout",
     "output_type": "stream",
     "text": [
      "안녕하세요\n",
      "'파이썬 스터디' 입니다.\n",
      "\"띄어쓰기\"가 가능합니다.\n"
     ]
    }
   ],
   "source": [
    "triple = \"\"\"안녕하세요\n",
    "'파이썬 스터디' 입니다.\n",
    "\"띄어쓰기\"가 가능합니다.\"\"\"\n",
    "print(triple)"
   ]
  },
  {
   "attachments": {},
   "cell_type": "markdown",
   "metadata": {},
   "source": [
    "\n",
    "### 정수와 실수\n"
   ]
  },
  {
   "attachments": {},
   "cell_type": "markdown",
   "metadata": {},
   "source": [
    "\n",
    "- 정수\n",
    "    \n",
    "    integer라고 말하며, `int()` 를 이용하여, 실수를 정수로 바꿀 수 있다. (이때, 소수점 아래를 버린다.)\n",
    "    \n"
   ]
  },
  {
   "cell_type": "code",
   "execution_count": 15,
   "metadata": {},
   "outputs": [
    {
     "name": "stdout",
     "output_type": "stream",
     "text": [
      "pi, int(pi) -> 3.141592 3\n",
      "r, int(r) -> 4.567 4\n"
     ]
    }
   ],
   "source": [
    "pi = 3.141592\n",
    "print(\"pi, int(pi) ->\",pi, int(pi))\n",
    "r = 4.567\n",
    "print(\"r, int(r) ->\", r, int(r))"
   ]
  },
  {
   "attachments": {},
   "cell_type": "markdown",
   "metadata": {},
   "source": [
    "* 실수\n",
    "    \n",
    "    float형이라고도 하며, int형과 마찬가지고 `float()` 명령어를 통해 실수로 변환이 가능하다.\n",
    "    \n",
    "    **부동소수점**이라는 표현 방식을 사용한다.\n",
    "\n",
    "    이때, 부동 소수점의 특징으로 인해서, 실수형들끼리는 서로 비교 연산이 힘들어진다.\n"
   ]
  },
  {
   "cell_type": "code",
   "execution_count": 36,
   "metadata": {},
   "outputs": [
    {
     "name": "stdout",
     "output_type": "stream",
     "text": [
      "a\t b\t c\t a==b\n",
      " 334.15920000000006 334.1592 334.1592 False\n"
     ]
    }
   ],
   "source": [
    "a = (0.1 + 0.1 + 3.141592) * 100\n",
    "b = 334.1592\n",
    "c = 0.3341592E3\n",
    "print(\"a\\t b\\t c\\t a==b\\n\",a, b, c, a==b)"
   ]
  },
  {
   "attachments": {},
   "cell_type": "markdown",
   "metadata": {},
   "source": [
    "\n",
    "## 리스트\n"
   ]
  },
  {
   "attachments": {},
   "cell_type": "markdown",
   "metadata": {},
   "source": [
    "리스트는 파이썬의 자료구조 중 하나로,\n",
    "\n",
    "여러 값들을 하나의 변수에 할당할 수 있도록 도와준다.\n",
    "\n",
    "파이썬 개발자들이 리스트와 함께 여러가지 함수를 사용 할 수 있도록 만들어놓은 함수들이 있다."
   ]
  },
  {
   "attachments": {},
   "cell_type": "markdown",
   "metadata": {},
   "source": [
    "### 파이썬 문서에서 직접 가져온 명령어 모음들"
   ]
  },
  {
   "attachments": {},
   "cell_type": "markdown",
   "metadata": {},
   "source": [
    "<table class=\"docutils align-default\" id=\"index-19\">\n",
    "<colgroup>\n",
    "<col style=\"width: 38%\">\n",
    "<col style=\"width: 47%\">\n",
    "<col style=\"width: 15%\">\n",
    "</colgroup>\n",
    "<thead>\n",
    "<tr class=\"row-odd\"><th class=\"head\"><p>Operation</p></th>\n",
    "<th class=\"head\"><p>Result</p></th>\n",
    "<th class=\"head\"><p>Notes</p></th>\n",
    "</tr>\n",
    "</thead>\n",
    "<tbody>\n",
    "<tr class=\"row-even\"><td><p><code class=\"docutils literal notranslate\"><span class=\"pre\">x</span> <span class=\"pre\">in</span> <span class=\"pre\">s</span></code></p></td>\n",
    "<td><p><code class=\"docutils literal notranslate\"><span class=\"pre\">True</span></code> if an item of <em>s</em> is\n",
    "equal to <em>x</em>, else <code class=\"docutils literal notranslate\"><span class=\"pre\">False</span></code></p></td>\n",
    "<td><p>(1)</p></td>\n",
    "</tr>\n",
    "<tr class=\"row-odd\"><td><p><code class=\"docutils literal notranslate\"><span class=\"pre\">x</span> <span class=\"pre\">not</span> <span class=\"pre\">in</span> <span class=\"pre\">s</span></code></p></td>\n",
    "<td><p><code class=\"docutils literal notranslate\"><span class=\"pre\">False</span></code> if an item of <em>s</em> is\n",
    "equal to <em>x</em>, else <code class=\"docutils literal notranslate\"><span class=\"pre\">True</span></code></p></td>\n",
    "<td><p>(1)</p></td>\n",
    "</tr>\n",
    "<tr class=\"row-even\"><td><p><code class=\"docutils literal notranslate\"><span class=\"pre\">s</span> <span class=\"pre\">+</span> <span class=\"pre\">t</span></code></p></td>\n",
    "<td><p>the concatenation of <em>s</em> and\n",
    "<em>t</em></p></td>\n",
    "<td><p>(6)(7)</p></td>\n",
    "</tr>\n",
    "<tr class=\"row-odd\"><td><p><code class=\"docutils literal notranslate\"><span class=\"pre\">s</span> <span class=\"pre\">*</span> <span class=\"pre\">n</span></code> or\n",
    "<code class=\"docutils literal notranslate\"><span class=\"pre\">n</span> <span class=\"pre\">*</span> <span class=\"pre\">s</span></code></p></td>\n",
    "<td><p>equivalent to adding <em>s</em> to\n",
    "itself <em>n</em> times</p></td>\n",
    "<td><p>(2)(7)</p></td>\n",
    "</tr>\n",
    "<tr class=\"row-even\"><td><p><code class=\"docutils literal notranslate\"><span class=\"pre\">s[i]</span></code></p></td>\n",
    "<td><p><em>i</em>th item of <em>s</em>, origin 0</p></td>\n",
    "<td><p>(3)</p></td>\n",
    "</tr>\n",
    "<tr class=\"row-odd\"><td><p><code class=\"docutils literal notranslate\"><span class=\"pre\">s[i:j]</span></code></p></td>\n",
    "<td><p>slice of <em>s</em> from <em>i</em> to <em>j</em></p></td>\n",
    "<td><p>(3)(4)</p></td>\n",
    "</tr>\n",
    "<tr class=\"row-even\"><td><p><code class=\"docutils literal notranslate\"><span class=\"pre\">s[i:j:k]</span></code></p></td>\n",
    "<td><p>slice of <em>s</em> from <em>i</em> to <em>j</em>\n",
    "with step <em>k</em></p></td>\n",
    "<td><p>(3)(5)</p></td>\n",
    "</tr>\n",
    "<tr class=\"row-odd\"><td><p><code class=\"docutils literal notranslate\"><span class=\"pre\">len(s)</span></code></p></td>\n",
    "<td><p>length of <em>s</em></p></td>\n",
    "<td></td>\n",
    "</tr>\n",
    "<tr class=\"row-even\"><td><p><code class=\"docutils literal notranslate\"><span class=\"pre\">min(s)</span></code></p></td>\n",
    "<td><p>smallest item of <em>s</em></p></td>\n",
    "<td></td>\n",
    "</tr>\n",
    "<tr class=\"row-odd\"><td><p><code class=\"docutils literal notranslate\"><span class=\"pre\">max(s)</span></code></p></td>\n",
    "<td><p>largest item of <em>s</em></p></td>\n",
    "<td></td>\n",
    "</tr>\n",
    "<tr class=\"row-even\"><td><p><code class=\"docutils literal notranslate\"><span class=\"pre\">s.index(x[,</span> <span class=\"pre\">i[,</span> <span class=\"pre\">j]])</span></code></p></td>\n",
    "<td><p>index of the first occurrence\n",
    "of <em>x</em> in <em>s</em> (at or after\n",
    "index <em>i</em> and before index <em>j</em>)</p></td>\n",
    "<td><p>(8)</p></td>\n",
    "</tr>\n",
    "<tr class=\"row-odd\"><td><p><code class=\"docutils literal notranslate\"><span class=\"pre\">s.count(x)</span></code></p></td>\n",
    "<td><p>total number of occurrences of\n",
    "<em>x</em> in <em>s</em></p></td>\n",
    "<td></td>\n",
    "</tr>\n",
    "</tbody>\n",
    "</table>"
   ]
  },
  {
   "attachments": {},
   "cell_type": "markdown",
   "metadata": {},
   "source": [
    "<table class=\"docutils align-default\" id=\"index-23\">\n",
    "<colgroup>\n",
    "<col style=\"width: 36%\">\n",
    "<col style=\"width: 39%\">\n",
    "<col style=\"width: 25%\">\n",
    "</colgroup>\n",
    "<thead>\n",
    "<tr class=\"row-odd\"><th class=\"head\"><p>Operation</p></th>\n",
    "<th class=\"head\"><p>Result</p></th>\n",
    "<th class=\"head\"><p>Notes</p></th>\n",
    "</tr>\n",
    "</thead>\n",
    "<tbody>\n",
    "<tr class=\"row-even\"><td><p><code class=\"docutils literal notranslate\"><span class=\"pre\">s[i]</span> <span class=\"pre\">=</span> <span class=\"pre\">x</span></code></p></td>\n",
    "<td><p>item <em>i</em> of <em>s</em> is replaced by\n",
    "<em>x</em></p></td>\n",
    "<td></td>\n",
    "</tr>\n",
    "<tr class=\"row-odd\"><td><p><code class=\"docutils literal notranslate\"><span class=\"pre\">s[i:j]</span> <span class=\"pre\">=</span> <span class=\"pre\">t</span></code></p></td>\n",
    "<td><p>slice of <em>s</em> from <em>i</em> to <em>j</em>\n",
    "is replaced by the contents of\n",
    "the iterable <em>t</em></p></td>\n",
    "<td></td>\n",
    "</tr>\n",
    "<tr class=\"row-even\"><td><p><code class=\"docutils literal notranslate\"><span class=\"pre\">del</span> <span class=\"pre\">s[i:j]</span></code></p></td>\n",
    "<td><p>same as <code class=\"docutils literal notranslate\"><span class=\"pre\">s[i:j]</span> <span class=\"pre\">=</span> <span class=\"pre\">[]</span></code></p></td>\n",
    "<td></td>\n",
    "</tr>\n",
    "<tr class=\"row-odd\"><td><p><code class=\"docutils literal notranslate\"><span class=\"pre\">s[i:j:k]</span> <span class=\"pre\">=</span> <span class=\"pre\">t</span></code></p></td>\n",
    "<td><p>the elements of <code class=\"docutils literal notranslate\"><span class=\"pre\">s[i:j:k]</span></code>\n",
    "are replaced by those of <em>t</em></p></td>\n",
    "<td><p>(1)</p></td>\n",
    "</tr>\n",
    "<tr class=\"row-even\"><td><p><code class=\"docutils literal notranslate\"><span class=\"pre\">del</span> <span class=\"pre\">s[i:j:k]</span></code></p></td>\n",
    "<td><p>removes the elements of\n",
    "<code class=\"docutils literal notranslate\"><span class=\"pre\">s[i:j:k]</span></code> from the <span class=\"highlighted\">list</span></p></td>\n",
    "<td></td>\n",
    "</tr>\n",
    "<tr class=\"row-odd\"><td><p><code class=\"docutils literal notranslate\"><span class=\"pre\">s.append(x)</span></code></p></td>\n",
    "<td><p>appends <em>x</em> to the end of the\n",
    "sequence (same as\n",
    "<code class=\"docutils literal notranslate\"><span class=\"pre\">s[len(s):len(s)]</span> <span class=\"pre\">=</span> <span class=\"pre\">[x]</span></code>)</p></td>\n",
    "<td></td>\n",
    "</tr>\n",
    "<tr class=\"row-even\"><td><p><code class=\"docutils literal notranslate\"><span class=\"pre\">s.clear()</span></code></p></td>\n",
    "<td><p>removes all items from <em>s</em>\n",
    "(same as <code class=\"docutils literal notranslate\"><span class=\"pre\">del</span> <span class=\"pre\">s[:]</span></code>)</p></td>\n",
    "<td><p>(5)</p></td>\n",
    "</tr>\n",
    "<tr class=\"row-odd\"><td><p><code class=\"docutils literal notranslate\"><span class=\"pre\">s.copy()</span></code></p></td>\n",
    "<td><p>creates a shallow copy of <em>s</em>\n",
    "(same as <code class=\"docutils literal notranslate\"><span class=\"pre\">s[:]</span></code>)</p></td>\n",
    "<td><p>(5)</p></td>\n",
    "</tr>\n",
    "<tr class=\"row-even\"><td><p><code class=\"docutils literal notranslate\"><span class=\"pre\">s.extend(t)</span></code> or\n",
    "<code class=\"docutils literal notranslate\"><span class=\"pre\">s</span> <span class=\"pre\">+=</span> <span class=\"pre\">t</span></code></p></td>\n",
    "<td><p>extends <em>s</em> with the\n",
    "contents of <em>t</em> (for the\n",
    "most part the same as\n",
    "<code class=\"docutils literal notranslate\"><span class=\"pre\">s[len(s):len(s)]</span> <span class=\"pre\">=</span> <span class=\"pre\">t</span></code>)</p></td>\n",
    "<td></td>\n",
    "</tr>\n",
    "<tr class=\"row-odd\"><td><p><code class=\"docutils literal notranslate\"><span class=\"pre\">s</span> <span class=\"pre\">*=</span> <span class=\"pre\">n</span></code></p></td>\n",
    "<td><p>updates <em>s</em> with its contents\n",
    "repeated <em>n</em> times</p></td>\n",
    "<td><p>(6)</p></td>\n",
    "</tr>\n",
    "<tr class=\"row-even\"><td><p><code class=\"docutils literal notranslate\"><span class=\"pre\">s.insert(i,</span> <span class=\"pre\">x)</span></code></p></td>\n",
    "<td><p>inserts <em>x</em> into <em>s</em> at the\n",
    "index given by <em>i</em>\n",
    "(same as <code class=\"docutils literal notranslate\"><span class=\"pre\">s[i:i]</span> <span class=\"pre\">=</span> <span class=\"pre\">[x]</span></code>)</p></td>\n",
    "<td></td>\n",
    "</tr>\n",
    "<tr class=\"row-odd\"><td><p><code class=\"docutils literal notranslate\"><span class=\"pre\">s.pop()</span></code> or <code class=\"docutils literal notranslate\"><span class=\"pre\">s.pop(i)</span></code></p></td>\n",
    "<td><p>retrieves the item at <em>i</em> and\n",
    "also removes it from <em>s</em></p></td>\n",
    "<td><p>(2)</p></td>\n",
    "</tr>\n",
    "<tr class=\"row-even\"><td><p><code class=\"docutils literal notranslate\"><span class=\"pre\">s.remove(x)</span></code></p></td>\n",
    "<td><p>remove the first item from <em>s</em>\n",
    "where <code class=\"docutils literal notranslate\"><span class=\"pre\">s[i]</span></code> is equal to <em>x</em></p></td>\n",
    "<td><p>(3)</p></td>\n",
    "</tr>\n",
    "<tr class=\"row-odd\"><td><p><code class=\"docutils literal notranslate\"><span class=\"pre\">s.reverse()</span></code></p></td>\n",
    "<td><p>reverses the items of <em>s</em> in\n",
    "place</p></td>\n",
    "<td><p>(4)</p></td>\n",
    "</tr>\n",
    "</tbody>\n",
    "</table>"
   ]
  },
  {
   "attachments": {},
   "cell_type": "markdown",
   "metadata": {},
   "source": [
    "## 문제 풀이를 위한 함수들"
   ]
  },
  {
   "attachments": {},
   "cell_type": "markdown",
   "metadata": {},
   "source": [
    "### 문자열에 많이 적용하게 될 함수들"
   ]
  },
  {
   "attachments": {},
   "cell_type": "markdown",
   "metadata": {},
   "source": [
    "\n",
    "#### `str.split()`\n"
   ]
  },
  {
   "attachments": {},
   "cell_type": "markdown",
   "metadata": {},
   "source": [
    "\n",
    "문제들을 풀다보면, 사용자가 스페이스바를 기준으로 여러 값들을 동시에 넣어줄 때가 있다.\n",
    "\n",
    "예를 들어, 학생 다섯명의 성적을 입력받는다고 하자.\n",
    "\n",
    "이때, 사용자가 `70 80 10 90 40`을 입력한다고 하면,\n",
    "\n",
    "우리는 그 문자들을 list형으로 받기 위해서 split 메소드를 사용하게 된다."
   ]
  },
  {
   "cell_type": "code",
   "execution_count": 43,
   "metadata": {},
   "outputs": [
    {
     "name": "stdout",
     "output_type": "stream",
     "text": [
      "['70', '80', '10', '90', '40']\n"
     ]
    }
   ],
   "source": [
    "inputs = '70 80 10 90 40'\n",
    "print(inputs.split())"
   ]
  },
  {
   "attachments": {},
   "cell_type": "markdown",
   "metadata": {},
   "source": [
    "위와 같이 split을 사용하게 되면, 사용자의 입력을 스페이스바를 기준으로 분리하여 list 형태로 바꾸어준다.\n",
    "\n",
    "스페이스바가 아닌 다른 문자를 기준으로 나누고 싶다면, 해당 문자를 split에 넘겨주면 된다."
   ]
  },
  {
   "cell_type": "code",
   "execution_count": 48,
   "metadata": {},
   "outputs": [
    {
     "name": "stdout",
     "output_type": "stream",
     "text": [
      "['70', '80', '10', '90', '40']\n",
      "['7', ',8', ',1', ',9', ',4', '']\n"
     ]
    }
   ],
   "source": [
    "inputs = '70,80,10,90,40'\n",
    "print(inputs.split(sep=','))\n",
    "print(inputs.split(sep='0'))"
   ]
  },
  {
   "attachments": {},
   "cell_type": "markdown",
   "metadata": {},
   "source": [
    "#### `map()`"
   ]
  },
  {
   "attachments": {},
   "cell_type": "markdown",
   "metadata": {},
   "source": [
    "이때, input으로 들어오는 값들은 문자열(str)으로 들어오게 될 것이다.\n",
    "\n",
    "그렴 우리가 사용자의 입력을 이용해서 계산을 하고 싶다면 해당 값들을 int형으로 바꾸어줄 필요가 있다."
   ]
  },
  {
   "cell_type": "code",
   "execution_count": 52,
   "metadata": {},
   "outputs": [
    {
     "name": "stdout",
     "output_type": "stream",
     "text": [
      "7070 140\n",
      "8080 160\n",
      "1010 20\n",
      "9090 180\n",
      "4040 80\n"
     ]
    }
   ],
   "source": [
    "inputs = '70 80 10 90 40'\n",
    "input_list = inputs.split()\n",
    "mul = 2\n",
    "for element in input_list:\n",
    "    print(element * 2, int(element) * 2)"
   ]
  },
  {
   "attachments": {},
   "cell_type": "markdown",
   "metadata": {},
   "source": [
    "이때, 위와 같이 for문을 통해서 하나씩 문자열을 정수로 바꾸어주게 되면, 코드가 길어지고 시간도 많이 걸릴 것이다.\n",
    "\n",
    "이를 해결하기 위한 파이썬 내장 함수가 `map()`이다.\n",
    "\n",
    "#### `map(적용할 함수, 함수를 적용할 값)`\n",
    "\n",
    "위와 같은 방식으로 이용할 수 있으며, 이때, list 자료형을 함수를 적용할 값에 넣어주면 된다.\n",
    "\n",
    "다음 예시와 같이 활용 할 수 있을 것이다."
   ]
  },
  {
   "cell_type": "code",
   "execution_count": 55,
   "metadata": {},
   "outputs": [
    {
     "name": "stdout",
     "output_type": "stream",
     "text": [
      "70 <class 'int'>\n",
      "80 <class 'int'>\n",
      "10 <class 'int'>\n",
      "90 <class 'int'>\n",
      "40 <class 'int'>\n"
     ]
    }
   ],
   "source": [
    "inputs = '70 80 10 90 40'\n",
    "input_list = inputs.split()\n",
    "for element in map(int, input_list):\n",
    "    print(element, type(element))"
   ]
  },
  {
   "attachments": {},
   "cell_type": "markdown",
   "metadata": {},
   "source": [
    "하지만 map함수를 사용하면 해당 값들은 map이라는 형식의 객체로 저장되고, list형이 아니여서 사용에 어려움이 생기게 된다.\n",
    "\n",
    "이를 해결하기 위해서, 우리가 int()를 통해 문자열이나 실수형을 정수형으로 바꾸어준 것처럼,\n",
    "\n",
    "list()를 이용하게 된다."
   ]
  },
  {
   "cell_type": "code",
   "execution_count": 56,
   "metadata": {},
   "outputs": [
    {
     "ename": "TypeError",
     "evalue": "'map' object is not subscriptable",
     "output_type": "error",
     "traceback": [
      "\u001b[0;31m---------------------------------------------------------------------------\u001b[0m",
      "\u001b[0;31mTypeError\u001b[0m                                 Traceback (most recent call last)",
      "\u001b[0;32m/var/folders/13/_d39kvt523z46phlzs257wb40000gn/T/ipykernel_22412/2792114698.py\u001b[0m in \u001b[0;36m<module>\u001b[0;34m\u001b[0m\n\u001b[1;32m      3\u001b[0m \u001b[0mmul\u001b[0m \u001b[0;34m=\u001b[0m \u001b[0;36m2\u001b[0m\u001b[0;34m\u001b[0m\u001b[0;34m\u001b[0m\u001b[0m\n\u001b[1;32m      4\u001b[0m \u001b[0mmapped\u001b[0m \u001b[0;34m=\u001b[0m \u001b[0mmap\u001b[0m\u001b[0;34m(\u001b[0m\u001b[0mint\u001b[0m\u001b[0;34m,\u001b[0m \u001b[0minput_list\u001b[0m\u001b[0;34m)\u001b[0m\u001b[0;34m\u001b[0m\u001b[0;34m\u001b[0m\u001b[0m\n\u001b[0;32m----> 5\u001b[0;31m \u001b[0mmapped\u001b[0m\u001b[0;34m[\u001b[0m\u001b[0;36m1\u001b[0m\u001b[0;34m]\u001b[0m\u001b[0;34m\u001b[0m\u001b[0;34m\u001b[0m\u001b[0m\n\u001b[0m",
      "\u001b[0;31mTypeError\u001b[0m: 'map' object is not subscriptable"
     ]
    }
   ],
   "source": [
    "inputs = '70 80 10 90 40'\n",
    "inputs_list = inputs.split()\n",
    "mul = 2\n",
    "mapped = map(int, inputs_list)\n",
    "mapped[1]"
   ]
  },
  {
   "cell_type": "code",
   "execution_count": 63,
   "metadata": {},
   "outputs": [
    {
     "data": {
      "text/plain": [
       "80"
      ]
     },
     "execution_count": 63,
     "metadata": {},
     "output_type": "execute_result"
    }
   ],
   "source": [
    "inputs = '70 80 10 90 40'\n",
    "inputs_list = inputs.split()\n",
    "mul = 2\n",
    "mapped_list = list(map(int, inputs_list))\n",
    "mapped_list[1]"
   ]
  },
  {
   "attachments": {},
   "cell_type": "markdown",
   "metadata": {},
   "source": [
    "이와 같이, input()으로 받은 사용자의 입력값을 split, map, list를 이용하여 정제할 수 있다.\n",
    "\n",
    "총 정리하게 되면 간단히 한줄로 사용자의 입력을 정수형들이 모여있는 list 형태로 바꿀 수 있다."
   ]
  },
  {
   "cell_type": "code",
   "execution_count": 1,
   "metadata": {},
   "outputs": [],
   "source": [
    "input_list = list(map(int, input().split()))"
   ]
  }
 ],
 "metadata": {
  "kernelspec": {
   "display_name": "base",
   "language": "python",
   "name": "python3"
  },
  "language_info": {
   "codemirror_mode": {
    "name": "ipython",
    "version": 3
   },
   "file_extension": ".py",
   "mimetype": "text/x-python",
   "name": "python",
   "nbconvert_exporter": "python",
   "pygments_lexer": "ipython3",
   "version": "3.9.13"
  },
  "orig_nbformat": 4
 },
 "nbformat": 4,
 "nbformat_minor": 2
}
