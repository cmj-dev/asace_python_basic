{
 "cells": [
  {
   "attachments": {},
   "cell_type": "markdown",
   "metadata": {},
   "source": [
    "# 1주차 스터디 정리"
   ]
  },
  {
   "attachments": {},
   "cell_type": "markdown",
   "metadata": {},
   "source": [
    "## Part1 시작하기"
   ]
  },
  {
   "attachments": {},
   "cell_type": "markdown",
   "metadata": {},
   "source": [
    "### print\n",
    "파이썬에서는 print라는 기능을 이용해서 사용자의 쉘에 원하는 값을 출력 할 수 있습니다."
   ]
  },
  {
   "cell_type": "code",
   "execution_count": 1,
   "metadata": {},
   "outputs": [
    {
     "name": "stdout",
     "output_type": "stream",
     "text": [
      "Hello, this is asace python basic study\n"
     ]
    }
   ],
   "source": [
    "print('Hello, this is asace python basic study')"
   ]
  },
  {
   "attachments": {},
   "cell_type": "markdown",
   "metadata": {},
   "source": [
    "## Part2 변수와 계산"
   ]
  },
  {
   "attachments": {},
   "cell_type": "markdown",
   "metadata": {},
   "source": [
    "### 변수의 선언"
   ]
  },
  {
   "attachments": {},
   "cell_type": "markdown",
   "metadata": {},
   "source": [
    "프로그래밍 언어에서는 변수(variable)가 존재합니다.\n",
    "\n",
    "변수를 이용해서 우리는 좀 더 **생산성이 높은 코드**를 작성 할 수 있습니다.\n",
    "\n",
    "변수를 선언하는 방법은 다음과 같습니다.\n",
    "\n",
    "``` python\n",
    "\n",
    "name = '최민제'\n",
    "\n",
    "```\n",
    "\n",
    "보통의 수식을 생각하면 name과 '최민제'가 같다는 수식으로 생각 할 수 있겠지만,\n",
    "\n",
    "프로그래밍 언어에서는 '=' 이라는 기호를 **할당 연산자**라고 하며 좌측에 있는 변수에 오른쪽에 있는 값을 할당해주는 역할을 합니다."
   ]
  },
  {
   "cell_type": "code",
   "execution_count": 8,
   "metadata": {},
   "outputs": [
    {
     "name": "stdout",
     "output_type": "stream",
     "text": [
      "안녕하세요 이번에 파이썬 멘토를 맡게된 최민제 입니다\n"
     ]
    }
   ],
   "source": [
    "name = '최민제'\n",
    "\n",
    "print('안녕하세요 이번에 파이썬 멘토를 맡게된', name, '입니다')"
   ]
  },
  {
   "attachments": {},
   "cell_type": "markdown",
   "metadata": {},
   "source": [
    "위의 예시는 이름을 할당하였지만 이름 외에도 여러 값들이 할당 가능합니다!\n",
    "\n",
    "어떤 종류들이 있는지 자세히는 파트5, 6 그리고 10에서 배우게 될 겁니다.\n",
    "\n",
    "지금은 간단히 어떠한 것들이 있는지 코드로 보여드리겠습니다."
   ]
  },
  {
   "cell_type": "code",
   "execution_count": null,
   "metadata": {},
   "outputs": [],
   "source": [
    "num = 10\n",
    "float = 10.4\n",
    "string = 'Hi this is python basic course'\n",
    "boolean = True  #boolean 이라는 종류가 존재하고 해당 값은 참 혹은 거짓으로 나뉩니다.\n",
    "# 이 외에도 많은 예시들이 있는데 나중에 다시 자세히 보여드리겠습니다.\n"
   ]
  },
  {
   "attachments": {},
   "cell_type": "markdown",
   "metadata": {},
   "source": [
    "### 변수의 사용"
   ]
  },
  {
   "attachments": {},
   "cell_type": "markdown",
   "metadata": {},
   "source": [
    "위와 같이 '='를 기준으로 왼쪽에 변수의 이름을 정해주게 되고,\n",
    "\n",
    "오른쪽에는 그 변수 안에 들어갈 값을 정해주면,\n",
    "\n",
    "이제부터 컴퓨터는 변수의 이름을 해당 값이라고 생각하고 프로그램을 실행해줍니다."
   ]
  },
  {
   "cell_type": "code",
   "execution_count": 4,
   "metadata": {},
   "outputs": [
    {
     "name": "stdout",
     "output_type": "stream",
     "text": [
      "최민제\n",
      "name이라는 변수 안에는 최민제 이(가) 들어있습니다.\n"
     ]
    }
   ],
   "source": [
    "name = '최민제'\n",
    "print(name)\n",
    "print('name이라는 변수 안에는',name,'이(가) 들어있습니다.')"
   ]
  },
  {
   "attachments": {},
   "cell_type": "markdown",
   "metadata": {},
   "source": [
    "### 주석\n"
   ]
  },
  {
   "attachments": {},
   "cell_type": "markdown",
   "metadata": {},
   "source": [
    "저희는 지금 간단한 프로그래밍을 하고 있어서 딱히 중요성을 느끼지 못할 부분입니다.\n",
    "\n",
    "하지만 실제로 코드가 길어지게 되면 다른사람들에게 해당 코드를 이해시키기 위해서 주석을 필수적인 부분입니다.\n",
    "\n",
    "``` python\n",
    "# 보통 #을 이용하거나\n",
    "\n",
    "\"\"\"\n",
    "여러줄을 위한 주석에는\n",
    "쌍따옴표 3개로 감싸서\n",
    "주석을 표현 할 수 있습니다.\n",
    "\"\"\"\n",
    "```\n",
    "\n",
    "이렇게 주석처리를 하게되면,\n",
    "\n",
    "우리가 쓴 프로그램을 컴퓨터가 이해할 수 있게 바꿔주는 과정에서 해당 라인들을 무시해주게 됩니다.\n",
    "\n",
    "이러한 점을 이용해서 \n",
    "\n",
    "주석은 잠시 쓰지 않고 싶은 코드를 취소하는 역할도 할 수 있습니다."
   ]
  },
  {
   "cell_type": "code",
   "execution_count": 6,
   "metadata": {},
   "outputs": [
    {
     "name": "stdout",
     "output_type": "stream",
     "text": [
      "주석을 사용하면\n",
      "실행 결과는 이와 같습니다.\n",
      "주석을 사용하면\n",
      "실행 결과는 이와 같습니다.\n"
     ]
    }
   ],
   "source": [
    "print('주석을 사용하면')\n",
    "#print('해당 줄은 무시가 됩니다.')\n",
    "print('실행 결과는 이와 같습니다.')\n",
    "\n",
    "print('주석을 사용하면')\n",
    "\"\"\"\n",
    "print('해당 줄은 무시가 됩니다.')\n",
    "print('여기에 코드에 대한 정보를 적을 수 있습니다')\n",
    "\"\"\"\n",
    "print('실행 결과는 이와 같습니다.')"
   ]
  },
  {
   "attachments": {},
   "cell_type": "markdown",
   "metadata": {},
   "source": [
    "### 숫자와 문자열"
   ]
  },
  {
   "attachments": {},
   "cell_type": "markdown",
   "metadata": {},
   "source": [
    "파이썬에서는 기본적인 사칙연산을 지원합니다.\n",
    "\n",
    "아래와 같은 기호를 이용하니 기억해두는 편이 좋습니다!"
   ]
  },
  {
   "cell_type": "code",
   "execution_count": 9,
   "metadata": {},
   "outputs": [
    {
     "name": "stdout",
     "output_type": "stream",
     "text": [
      "9 + 2 =  11\n",
      "9 - 2 =  7\n",
      "9 / 2 =  4.5\n",
      "9 * 2 =  18\n",
      "9 // 2 =  4\n",
      "9 % 2 =  1\n",
      "9 ** 2 =  81\n"
     ]
    }
   ],
   "source": [
    "a = 9\n",
    "b = 2\n",
    "print('9 + 2 = ', 9 + 2) # 더하기\n",
    "print('9 - 2 = ', 9 - 2) # 빼기\n",
    "print('9 / 2 = ',9 / 2) # 나누기\n",
    "print('9 * 2 = ',9 * 2) # 곱하기\n",
    "print('9 // 2 = ',9 // 2) # 몫\n",
    "print('9 % 2 = ',9 % 2) # 나머지\n",
    "print('9 ** 2 = ',9 ** 2) # 제곱"
   ]
  },
  {
   "attachments": {},
   "cell_type": "markdown",
   "metadata": {},
   "source": [
    "지금까지는 숫자들에 대한 연산을 진행했다면,\n",
    "\n",
    "저희가 계속 사용했던 문자열 역시 가능한 연산이 있습니다.\n",
    "\n",
    "아래의 코드를 보시면 이해가 되실겁니다."
   ]
  },
  {
   "cell_type": "code",
   "execution_count": 10,
   "metadata": {},
   "outputs": [
    {
     "name": "stdout",
     "output_type": "stream",
     "text": [
      "최민제20180823\n"
     ]
    }
   ],
   "source": [
    "name = '최민제'\n",
    "student_number = '20180823'\n",
    "print(name+student_number)"
   ]
  },
  {
   "attachments": {},
   "cell_type": "markdown",
   "metadata": {},
   "source": [
    "더하기 외에 다른 연산은 곱하기도 가능하며 그 외에는 사용할 수 없으니 넘어가도록 합시다."
   ]
  }
 ],
 "metadata": {
  "kernelspec": {
   "display_name": "ML",
   "language": "python",
   "name": "python3"
  },
  "language_info": {
   "codemirror_mode": {
    "name": "ipython",
    "version": 3
   },
   "file_extension": ".py",
   "mimetype": "text/x-python",
   "name": "python",
   "nbconvert_exporter": "python",
   "pygments_lexer": "ipython3",
   "version": "3.9.13"
  },
  "orig_nbformat": 4
 },
 "nbformat": 4,
 "nbformat_minor": 2
}
